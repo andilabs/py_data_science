{
 "cells": [
  {
   "cell_type": "code",
   "execution_count": 6,
   "metadata": {},
   "outputs": [],
   "source": [
    "from stravalib.client import Client\n",
    "\n",
    "client = Client()"
   ]
  },
  {
   "cell_type": "code",
   "execution_count": 7,
   "metadata": {},
   "outputs": [],
   "source": [
    "from dotenv import load_dotenv\n",
    "load_dotenv()\n",
    "import os"
   ]
  },
  {
   "cell_type": "code",
   "execution_count": 9,
   "metadata": {},
   "outputs": [],
   "source": [
    "client.access_token = os.getenv('STRAVA_ACCESS_TOKEN')"
   ]
  },
  {
   "cell_type": "code",
   "execution_count": 13,
   "metadata": {},
   "outputs": [],
   "source": [
    "athlete = client.get_athlete()"
   ]
  },
  {
   "cell_type": "code",
   "execution_count": 15,
   "metadata": {},
   "outputs": [
    {
     "data": {
      "text/plain": [
       "['__abstractmethods__',\n",
       " '__class__',\n",
       " '__delattr__',\n",
       " '__dict__',\n",
       " '__doc__',\n",
       " '__format__',\n",
       " '__getattribute__',\n",
       " '__hash__',\n",
       " '__init__',\n",
       " '__module__',\n",
       " '__new__',\n",
       " '__reduce__',\n",
       " '__reduce_ex__',\n",
       " '__repr__',\n",
       " '__setattr__',\n",
       " '__sizeof__',\n",
       " '__str__',\n",
       " '__subclasshook__',\n",
       " '__weakref__',\n",
       " '_abc_cache',\n",
       " '_abc_negative_cache',\n",
       " '_abc_negative_cache_version',\n",
       " '_abc_registry',\n",
       " '_followers',\n",
       " '_friends',\n",
       " '_is_authenticated',\n",
       " '_stats',\n",
       " 'admin',\n",
       " 'agreed_to_terms',\n",
       " 'approve_followers',\n",
       " 'assert_bind_client',\n",
       " 'athlete_type',\n",
       " 'badge_type_id',\n",
       " 'bikes',\n",
       " 'bind_client',\n",
       " 'city',\n",
       " 'clubs',\n",
       " 'country',\n",
       " 'created_at',\n",
       " 'date_preference',\n",
       " 'dateofbirth',\n",
       " 'description',\n",
       " 'deserialize',\n",
       " 'email',\n",
       " 'email_facebook_twitter_friend_joins',\n",
       " 'email_kom_lost',\n",
       " 'email_language',\n",
       " 'email_send_follower_notices',\n",
       " 'expand',\n",
       " 'facebook_sharing_enabled',\n",
       " 'firstname',\n",
       " 'follower',\n",
       " 'follower_count',\n",
       " 'follower_request_count',\n",
       " 'followers',\n",
       " 'friend',\n",
       " 'friend_count',\n",
       " 'friends',\n",
       " 'from_dict',\n",
       " 'ftp',\n",
       " 'global_privacy',\n",
       " 'id',\n",
       " 'instagram_username',\n",
       " 'is_authenticated_athlete',\n",
       " 'lastname',\n",
       " 'log',\n",
       " 'max_heartrate',\n",
       " 'measurement_preference',\n",
       " 'membership',\n",
       " 'mutual_friend_count',\n",
       " 'offer_in_app_payment',\n",
       " 'owner',\n",
       " 'plan',\n",
       " 'premium',\n",
       " 'premium_expiration_date',\n",
       " 'profile',\n",
       " 'profile_medium',\n",
       " 'profile_original',\n",
       " 'receive_comment_emails',\n",
       " 'receive_follower_feed_emails',\n",
       " 'receive_kudos_emails',\n",
       " 'receive_newsletter',\n",
       " 'resource_state',\n",
       " 'sample_race_distance',\n",
       " 'sample_race_time',\n",
       " 'sex',\n",
       " 'shoes',\n",
       " 'state',\n",
       " 'stats',\n",
       " 'subscription_permissions',\n",
       " 'super_user',\n",
       " 'to_dict',\n",
       " 'updated_at',\n",
       " 'username',\n",
       " 'weight']"
      ]
     },
     "execution_count": 15,
     "metadata": {},
     "output_type": "execute_result"
    }
   ],
   "source": [
    "dir(athlete)"
   ]
  },
  {
   "cell_type": "code",
   "execution_count": 16,
   "metadata": {},
   "outputs": [
    {
     "data": {
      "text/plain": [
       "Quantity(75.0, NamedComposedUnit('kg', ComposedUnit([LeafUnit('g', True)], [], 1000), False))"
      ]
     },
     "execution_count": 16,
     "metadata": {},
     "output_type": "execute_result"
    }
   ],
   "source": [
    "athlete.weight"
   ]
  },
  {
   "cell_type": "code",
   "execution_count": 17,
   "metadata": {},
   "outputs": [
    {
     "data": {
      "text/plain": [
       "<AthleteStats >"
      ]
     },
     "execution_count": 17,
     "metadata": {},
     "output_type": "execute_result"
    }
   ],
   "source": [
    "athlete.stats"
   ]
  },
  {
   "cell_type": "code",
   "execution_count": 18,
   "metadata": {},
   "outputs": [
    {
     "data": {
      "text/plain": [
       "['__abstractmethods__',\n",
       " '__class__',\n",
       " '__delattr__',\n",
       " '__dict__',\n",
       " '__doc__',\n",
       " '__format__',\n",
       " '__getattribute__',\n",
       " '__hash__',\n",
       " '__init__',\n",
       " '__module__',\n",
       " '__new__',\n",
       " '__reduce__',\n",
       " '__reduce_ex__',\n",
       " '__repr__',\n",
       " '__setattr__',\n",
       " '__sizeof__',\n",
       " '__str__',\n",
       " '__subclasshook__',\n",
       " '__weakref__',\n",
       " '_abc_cache',\n",
       " '_abc_negative_cache',\n",
       " '_abc_negative_cache_version',\n",
       " '_abc_registry',\n",
       " 'all_ride_totals',\n",
       " 'all_run_totals',\n",
       " 'all_swim_totals',\n",
       " 'biggest_climb_elevation_gain',\n",
       " 'biggest_ride_distance',\n",
       " 'deserialize',\n",
       " 'from_dict',\n",
       " 'log',\n",
       " 'recent_ride_totals',\n",
       " 'recent_run_totals',\n",
       " 'recent_swim_totals',\n",
       " 'to_dict',\n",
       " 'ytd_ride_totals',\n",
       " 'ytd_run_totals',\n",
       " 'ytd_swim_totals']"
      ]
     },
     "execution_count": 18,
     "metadata": {},
     "output_type": "execute_result"
    }
   ],
   "source": [
    "dir(athlete.stats)"
   ]
  },
  {
   "cell_type": "code",
   "execution_count": 19,
   "metadata": {},
   "outputs": [
    {
     "data": {
      "text/plain": [
       "<ActivityTotals >"
      ]
     },
     "execution_count": 19,
     "metadata": {},
     "output_type": "execute_result"
    }
   ],
   "source": [
    "athlete.stats.ytd_run_totals"
   ]
  },
  {
   "cell_type": "code",
   "execution_count": 23,
   "metadata": {},
   "outputs": [
    {
     "data": {
      "text/plain": [
       "{'log': <logging.Logger at 0x10ada55d0>}"
      ]
     },
     "execution_count": 23,
     "metadata": {},
     "output_type": "execute_result"
    }
   ],
   "source": [
    "athlete.stats.ytd_run_totals.__dict__"
   ]
  },
  {
   "cell_type": "code",
   "execution_count": 24,
   "metadata": {},
   "outputs": [
    {
     "data": {
      "text/plain": [
       "{'achievement_count': None,\n",
       " 'count': 62,\n",
       " 'distance': 882812,\n",
       " 'elapsed_time': '3 days, 17:45:01',\n",
       " 'elevation_gain': 2903,\n",
       " 'moving_time': '3 days, 11:27:27'}"
      ]
     },
     "execution_count": 24,
     "metadata": {},
     "output_type": "execute_result"
    }
   ],
   "source": [
    "athlete.stats.ytd_run_totals.to_dict()"
   ]
  },
  {
   "cell_type": "code",
   "execution_count": 25,
   "metadata": {},
   "outputs": [
    {
     "data": {
      "text/plain": [
       "{'achievement_count': None,\n",
       " 'count': 46,\n",
       " 'distance': 2838169,\n",
       " 'elapsed_time': '3 days, 17:20:30',\n",
       " 'elevation_gain': 6003,\n",
       " 'moving_time': '3 days, 11:26:51'}"
      ]
     },
     "execution_count": 25,
     "metadata": {},
     "output_type": "execute_result"
    }
   ],
   "source": [
    "athlete.stats.ytd_ride_totals.to_dict()"
   ]
  },
  {
   "cell_type": "code",
   "execution_count": 26,
   "metadata": {},
   "outputs": [
    {
     "data": {
      "text/plain": [
       "{'achievement_count': None,\n",
       " 'count': 12,\n",
       " 'distance': 26888,\n",
       " 'elapsed_time': '8:45:56',\n",
       " 'elevation_gain': 5,\n",
       " 'moving_time': '8:21:10'}"
      ]
     },
     "execution_count": 26,
     "metadata": {},
     "output_type": "execute_result"
    }
   ],
   "source": [
    "athlete.stats.ytd_swim_totals.to_dict()"
   ]
  },
  {
   "cell_type": "code",
   "execution_count": 27,
   "metadata": {},
   "outputs": [
    {
     "data": {
      "text/plain": [
       "[<Shoe id=g2747771 name=u'HOKA ONE ONE Clifton4' resource_state=2>,\n",
       " <Shoe id=g2747774 name=u'HOKA ONE ONE Speedgoat' resource_state=2>,\n",
       " <Shoe id=g2252701 name=u'HOKA ONE ONE Clayton2' resource_state=2>,\n",
       " <Shoe id=g3404196 name=u'On Cloudflow' resource_state=2>,\n",
       " <Shoe id=g3106998 name=u'HOKA ONE ONE Bondi 5 bondi' resource_state=2>]"
      ]
     },
     "execution_count": 27,
     "metadata": {},
     "output_type": "execute_result"
    }
   ],
   "source": [
    "athlete.shoes"
   ]
  },
  {
   "cell_type": "code",
   "execution_count": 28,
   "metadata": {},
   "outputs": [
    {
     "data": {
      "text/plain": [
       "{'log': <logging.Logger at 0x10a9238d0>}"
      ]
     },
     "execution_count": 28,
     "metadata": {},
     "output_type": "execute_result"
    }
   ],
   "source": [
    "athlete.shoes[0].__dict__"
   ]
  },
  {
   "cell_type": "code",
   "execution_count": 29,
   "metadata": {},
   "outputs": [
    {
     "data": {
      "text/plain": [
       "{}"
      ]
     },
     "execution_count": 29,
     "metadata": {},
     "output_type": "execute_result"
    }
   ],
   "source": [
    "athlete.shoes[0].to_dict()"
   ]
  },
  {
   "cell_type": "code",
   "execution_count": 30,
   "metadata": {},
   "outputs": [
    {
     "data": {
      "text/plain": [
       "['__abstractmethods__',\n",
       " '__class__',\n",
       " '__delattr__',\n",
       " '__dict__',\n",
       " '__doc__',\n",
       " '__format__',\n",
       " '__getattribute__',\n",
       " '__hash__',\n",
       " '__init__',\n",
       " '__module__',\n",
       " '__new__',\n",
       " '__reduce__',\n",
       " '__reduce_ex__',\n",
       " '__repr__',\n",
       " '__setattr__',\n",
       " '__sizeof__',\n",
       " '__str__',\n",
       " '__subclasshook__',\n",
       " '__weakref__',\n",
       " '_abc_cache',\n",
       " '_abc_negative_cache',\n",
       " '_abc_negative_cache_version',\n",
       " '_abc_registry',\n",
       " 'brand_name',\n",
       " 'description',\n",
       " 'deserialize',\n",
       " 'distance',\n",
       " 'from_dict',\n",
       " 'id',\n",
       " 'log',\n",
       " 'model_name',\n",
       " 'name',\n",
       " 'primary',\n",
       " 'resource_state',\n",
       " 'to_dict']"
      ]
     },
     "execution_count": 30,
     "metadata": {},
     "output_type": "execute_result"
    }
   ],
   "source": [
    "dir(athlete.shoes[0])"
   ]
  },
  {
   "cell_type": "code",
   "execution_count": 34,
   "metadata": {},
   "outputs": [
    {
     "name": "stdout",
     "output_type": "stream",
     "text": [
      "(u'HOKA ONE ONE Clifton4', Quantity(400672.0, LeafUnit('m', True)), None, None)\n",
      "(u'HOKA ONE ONE Speedgoat', Quantity(129563.0, LeafUnit('m', True)), None, None)\n",
      "(u'HOKA ONE ONE Clayton2', Quantity(276999.0, LeafUnit('m', True)), None, None)\n",
      "(u'On Cloudflow', Quantity(121161.0, LeafUnit('m', True)), None, None)\n",
      "(u'HOKA ONE ONE Bondi 5 bondi', Quantity(438032.0, LeafUnit('m', True)), None, None)\n"
     ]
    }
   ],
   "source": [
    "for shoe in athlete.shoes:\n",
    "    print(shoe.name, shoe.distance, shoe.model_name, shoe.description)"
   ]
  },
  {
   "cell_type": "code",
   "execution_count": 47,
   "metadata": {},
   "outputs": [],
   "source": [
    "activities = list(client.get_activities())"
   ]
  },
  {
   "cell_type": "code",
   "execution_count": 48,
   "metadata": {},
   "outputs": [
    {
     "data": {
      "text/plain": [
       "645"
      ]
     },
     "execution_count": 48,
     "metadata": {},
     "output_type": "execute_result"
    }
   ],
   "source": [
    "len(activities)"
   ]
  },
  {
   "cell_type": "code",
   "execution_count": null,
   "metadata": {},
   "outputs": [],
   "source": []
  }
 ],
 "metadata": {
  "kernelspec": {
   "display_name": "venv",
   "language": "python",
   "name": "venv"
  },
  "language_info": {
   "codemirror_mode": {
    "name": "ipython",
    "version": 2
   },
   "file_extension": ".py",
   "mimetype": "text/x-python",
   "name": "python",
   "nbconvert_exporter": "python",
   "pygments_lexer": "ipython2",
   "version": "2.7.10"
  }
 },
 "nbformat": 4,
 "nbformat_minor": 2
}
