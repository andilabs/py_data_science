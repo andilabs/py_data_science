{
 "cells": [
  {
   "cell_type": "code",
   "execution_count": 1,
   "metadata": {},
   "outputs": [],
   "source": [
    "from stravalib.client import Client\n",
    "\n",
    "client = Client()"
   ]
  },
  {
   "cell_type": "code",
   "execution_count": 2,
   "metadata": {},
   "outputs": [],
   "source": [
    "from dotenv import load_dotenv\n",
    "load_dotenv()\n",
    "import os"
   ]
  },
  {
   "cell_type": "code",
   "execution_count": 3,
   "metadata": {},
   "outputs": [],
   "source": [
    "client.access_token = os.getenv('STRAVA_ACCESS_TOKEN')"
   ]
  },
  {
   "cell_type": "code",
   "execution_count": 4,
   "metadata": {},
   "outputs": [],
   "source": [
    "athlete = client.get_athlete()"
   ]
  },
  {
   "cell_type": "code",
   "execution_count": 5,
   "metadata": {},
   "outputs": [
    {
     "data": {
      "text/plain": [
       "['__abstractmethods__',\n",
       " '__class__',\n",
       " '__delattr__',\n",
       " '__dict__',\n",
       " '__doc__',\n",
       " '__format__',\n",
       " '__getattribute__',\n",
       " '__hash__',\n",
       " '__init__',\n",
       " '__module__',\n",
       " '__new__',\n",
       " '__reduce__',\n",
       " '__reduce_ex__',\n",
       " '__repr__',\n",
       " '__setattr__',\n",
       " '__sizeof__',\n",
       " '__str__',\n",
       " '__subclasshook__',\n",
       " '__weakref__',\n",
       " '_abc_cache',\n",
       " '_abc_negative_cache',\n",
       " '_abc_negative_cache_version',\n",
       " '_abc_registry',\n",
       " '_followers',\n",
       " '_friends',\n",
       " '_is_authenticated',\n",
       " '_stats',\n",
       " 'admin',\n",
       " 'agreed_to_terms',\n",
       " 'approve_followers',\n",
       " 'assert_bind_client',\n",
       " 'athlete_type',\n",
       " 'badge_type_id',\n",
       " 'bikes',\n",
       " 'bind_client',\n",
       " 'city',\n",
       " 'clubs',\n",
       " 'country',\n",
       " 'created_at',\n",
       " 'date_preference',\n",
       " 'dateofbirth',\n",
       " 'description',\n",
       " 'deserialize',\n",
       " 'email',\n",
       " 'email_facebook_twitter_friend_joins',\n",
       " 'email_kom_lost',\n",
       " 'email_language',\n",
       " 'email_send_follower_notices',\n",
       " 'expand',\n",
       " 'facebook_sharing_enabled',\n",
       " 'firstname',\n",
       " 'follower',\n",
       " 'follower_count',\n",
       " 'follower_request_count',\n",
       " 'followers',\n",
       " 'friend',\n",
       " 'friend_count',\n",
       " 'friends',\n",
       " 'from_dict',\n",
       " 'ftp',\n",
       " 'global_privacy',\n",
       " 'id',\n",
       " 'instagram_username',\n",
       " 'is_authenticated_athlete',\n",
       " 'lastname',\n",
       " 'log',\n",
       " 'max_heartrate',\n",
       " 'measurement_preference',\n",
       " 'membership',\n",
       " 'mutual_friend_count',\n",
       " 'offer_in_app_payment',\n",
       " 'owner',\n",
       " 'plan',\n",
       " 'premium',\n",
       " 'premium_expiration_date',\n",
       " 'profile',\n",
       " 'profile_medium',\n",
       " 'profile_original',\n",
       " 'receive_comment_emails',\n",
       " 'receive_follower_feed_emails',\n",
       " 'receive_kudos_emails',\n",
       " 'receive_newsletter',\n",
       " 'resource_state',\n",
       " 'sample_race_distance',\n",
       " 'sample_race_time',\n",
       " 'sex',\n",
       " 'shoes',\n",
       " 'state',\n",
       " 'stats',\n",
       " 'subscription_permissions',\n",
       " 'super_user',\n",
       " 'to_dict',\n",
       " 'updated_at',\n",
       " 'username',\n",
       " 'weight']"
      ]
     },
     "execution_count": 5,
     "metadata": {},
     "output_type": "execute_result"
    }
   ],
   "source": [
    "dir(athlete)"
   ]
  },
  {
   "cell_type": "code",
   "execution_count": 6,
   "metadata": {},
   "outputs": [
    {
     "data": {
      "text/plain": [
       "Quantity(75.0, NamedComposedUnit('kg', ComposedUnit([LeafUnit('g', True)], [], 1000), False))"
      ]
     },
     "execution_count": 6,
     "metadata": {},
     "output_type": "execute_result"
    }
   ],
   "source": [
    "athlete.weight"
   ]
  },
  {
   "cell_type": "code",
   "execution_count": 7,
   "metadata": {},
   "outputs": [
    {
     "data": {
      "text/plain": [
       "<AthleteStats >"
      ]
     },
     "execution_count": 7,
     "metadata": {},
     "output_type": "execute_result"
    }
   ],
   "source": [
    "athlete.stats"
   ]
  },
  {
   "cell_type": "code",
   "execution_count": 8,
   "metadata": {},
   "outputs": [
    {
     "data": {
      "text/plain": [
       "['__abstractmethods__',\n",
       " '__class__',\n",
       " '__delattr__',\n",
       " '__dict__',\n",
       " '__doc__',\n",
       " '__format__',\n",
       " '__getattribute__',\n",
       " '__hash__',\n",
       " '__init__',\n",
       " '__module__',\n",
       " '__new__',\n",
       " '__reduce__',\n",
       " '__reduce_ex__',\n",
       " '__repr__',\n",
       " '__setattr__',\n",
       " '__sizeof__',\n",
       " '__str__',\n",
       " '__subclasshook__',\n",
       " '__weakref__',\n",
       " '_abc_cache',\n",
       " '_abc_negative_cache',\n",
       " '_abc_negative_cache_version',\n",
       " '_abc_registry',\n",
       " 'all_ride_totals',\n",
       " 'all_run_totals',\n",
       " 'all_swim_totals',\n",
       " 'biggest_climb_elevation_gain',\n",
       " 'biggest_ride_distance',\n",
       " 'deserialize',\n",
       " 'from_dict',\n",
       " 'log',\n",
       " 'recent_ride_totals',\n",
       " 'recent_run_totals',\n",
       " 'recent_swim_totals',\n",
       " 'to_dict',\n",
       " 'ytd_ride_totals',\n",
       " 'ytd_run_totals',\n",
       " 'ytd_swim_totals']"
      ]
     },
     "execution_count": 8,
     "metadata": {},
     "output_type": "execute_result"
    }
   ],
   "source": [
    "dir(athlete.stats)"
   ]
  },
  {
   "cell_type": "code",
   "execution_count": 9,
   "metadata": {},
   "outputs": [
    {
     "data": {
      "text/plain": [
       "<ActivityTotals >"
      ]
     },
     "execution_count": 9,
     "metadata": {},
     "output_type": "execute_result"
    }
   ],
   "source": [
    "athlete.stats.ytd_run_totals"
   ]
  },
  {
   "cell_type": "code",
   "execution_count": 10,
   "metadata": {},
   "outputs": [
    {
     "data": {
      "text/plain": [
       "{'log': <logging.Logger at 0x1104bb4d0>}"
      ]
     },
     "execution_count": 10,
     "metadata": {},
     "output_type": "execute_result"
    }
   ],
   "source": [
    "athlete.stats.ytd_run_totals.__dict__"
   ]
  },
  {
   "cell_type": "code",
   "execution_count": 11,
   "metadata": {},
   "outputs": [
    {
     "data": {
      "text/plain": [
       "{'achievement_count': None,\n",
       " 'count': 62,\n",
       " 'distance': 882812,\n",
       " 'elapsed_time': '3 days, 17:45:01',\n",
       " 'elevation_gain': 2903,\n",
       " 'moving_time': '3 days, 11:27:27'}"
      ]
     },
     "execution_count": 11,
     "metadata": {},
     "output_type": "execute_result"
    }
   ],
   "source": [
    "athlete.stats.ytd_run_totals.to_dict()"
   ]
  },
  {
   "cell_type": "code",
   "execution_count": 12,
   "metadata": {},
   "outputs": [
    {
     "data": {
      "text/plain": [
       "{'achievement_count': None,\n",
       " 'count': 46,\n",
       " 'distance': 2838169,\n",
       " 'elapsed_time': '3 days, 17:20:30',\n",
       " 'elevation_gain': 6003,\n",
       " 'moving_time': '3 days, 11:26:51'}"
      ]
     },
     "execution_count": 12,
     "metadata": {},
     "output_type": "execute_result"
    }
   ],
   "source": [
    "athlete.stats.ytd_ride_totals.to_dict()"
   ]
  },
  {
   "cell_type": "code",
   "execution_count": 13,
   "metadata": {},
   "outputs": [
    {
     "data": {
      "text/plain": [
       "{'achievement_count': None,\n",
       " 'count': 12,\n",
       " 'distance': 26888,\n",
       " 'elapsed_time': '8:45:56',\n",
       " 'elevation_gain': 5,\n",
       " 'moving_time': '8:21:10'}"
      ]
     },
     "execution_count": 13,
     "metadata": {},
     "output_type": "execute_result"
    }
   ],
   "source": [
    "athlete.stats.ytd_swim_totals.to_dict()"
   ]
  },
  {
   "cell_type": "code",
   "execution_count": 14,
   "metadata": {},
   "outputs": [
    {
     "data": {
      "text/plain": [
       "[<Shoe id=g2747771 name=u'HOKA ONE ONE Clifton4' resource_state=2>,\n",
       " <Shoe id=g2747774 name=u'HOKA ONE ONE Speedgoat' resource_state=2>,\n",
       " <Shoe id=g2252701 name=u'HOKA ONE ONE Clayton2' resource_state=2>,\n",
       " <Shoe id=g3404196 name=u'On Cloudflow' resource_state=2>,\n",
       " <Shoe id=g3106998 name=u'HOKA ONE ONE Bondi 5 bondi' resource_state=2>]"
      ]
     },
     "execution_count": 14,
     "metadata": {},
     "output_type": "execute_result"
    }
   ],
   "source": [
    "athlete.shoes"
   ]
  },
  {
   "cell_type": "code",
   "execution_count": 15,
   "metadata": {},
   "outputs": [
    {
     "data": {
      "text/plain": [
       "{'log': <logging.Logger at 0x110081190>}"
      ]
     },
     "execution_count": 15,
     "metadata": {},
     "output_type": "execute_result"
    }
   ],
   "source": [
    "athlete.shoes[0].__dict__"
   ]
  },
  {
   "cell_type": "code",
   "execution_count": 16,
   "metadata": {},
   "outputs": [
    {
     "data": {
      "text/plain": [
       "{}"
      ]
     },
     "execution_count": 16,
     "metadata": {},
     "output_type": "execute_result"
    }
   ],
   "source": [
    "athlete.shoes[0].to_dict()"
   ]
  },
  {
   "cell_type": "code",
   "execution_count": 17,
   "metadata": {},
   "outputs": [
    {
     "data": {
      "text/plain": [
       "['__abstractmethods__',\n",
       " '__class__',\n",
       " '__delattr__',\n",
       " '__dict__',\n",
       " '__doc__',\n",
       " '__format__',\n",
       " '__getattribute__',\n",
       " '__hash__',\n",
       " '__init__',\n",
       " '__module__',\n",
       " '__new__',\n",
       " '__reduce__',\n",
       " '__reduce_ex__',\n",
       " '__repr__',\n",
       " '__setattr__',\n",
       " '__sizeof__',\n",
       " '__str__',\n",
       " '__subclasshook__',\n",
       " '__weakref__',\n",
       " '_abc_cache',\n",
       " '_abc_negative_cache',\n",
       " '_abc_negative_cache_version',\n",
       " '_abc_registry',\n",
       " 'brand_name',\n",
       " 'description',\n",
       " 'deserialize',\n",
       " 'distance',\n",
       " 'from_dict',\n",
       " 'id',\n",
       " 'log',\n",
       " 'model_name',\n",
       " 'name',\n",
       " 'primary',\n",
       " 'resource_state',\n",
       " 'to_dict']"
      ]
     },
     "execution_count": 17,
     "metadata": {},
     "output_type": "execute_result"
    }
   ],
   "source": [
    "dir(athlete.shoes[0])"
   ]
  },
  {
   "cell_type": "code",
   "execution_count": 18,
   "metadata": {},
   "outputs": [
    {
     "name": "stdout",
     "output_type": "stream",
     "text": [
      "(u'HOKA ONE ONE Clifton4', Quantity(400672.0, LeafUnit('m', True)), None, None)\n",
      "(u'HOKA ONE ONE Speedgoat', Quantity(129563.0, LeafUnit('m', True)), None, None)\n",
      "(u'HOKA ONE ONE Clayton2', Quantity(276999.0, LeafUnit('m', True)), None, None)\n",
      "(u'On Cloudflow', Quantity(121161.0, LeafUnit('m', True)), None, None)\n",
      "(u'HOKA ONE ONE Bondi 5 bondi', Quantity(438032.0, LeafUnit('m', True)), None, None)\n"
     ]
    }
   ],
   "source": [
    "for shoe in athlete.shoes:\n",
    "    print(shoe.name, shoe.distance, shoe.model_name, shoe.description)"
   ]
  },
  {
   "cell_type": "code",
   "execution_count": 19,
   "metadata": {},
   "outputs": [
    {
     "name": "stderr",
     "output_type": "stream",
     "text": [
      "No handlers could be found for logger \"stravalib.model.Activity\"\n"
     ]
    }
   ],
   "source": [
    "activities = list(client.get_activities())"
   ]
  },
  {
   "cell_type": "code",
   "execution_count": 20,
   "metadata": {},
   "outputs": [
    {
     "data": {
      "text/plain": [
       "645"
      ]
     },
     "execution_count": 20,
     "metadata": {},
     "output_type": "execute_result"
    }
   ],
   "source": [
    "len(activities)"
   ]
  },
  {
   "cell_type": "code",
   "execution_count": 21,
   "metadata": {},
   "outputs": [],
   "source": [
    "a = activities[0]"
   ]
  },
  {
   "cell_type": "code",
   "execution_count": 22,
   "metadata": {},
   "outputs": [
    {
     "data": {
      "text/plain": [
       "159.5"
      ]
     },
     "execution_count": 22,
     "metadata": {},
     "output_type": "execute_result"
    }
   ],
   "source": [
    "a.average_heartrate"
   ]
  },
  {
   "cell_type": "code",
   "execution_count": 23,
   "metadata": {},
   "outputs": [],
   "source": [
    "a.average_watts"
   ]
  },
  {
   "cell_type": "code",
   "execution_count": 24,
   "metadata": {},
   "outputs": [
    {
     "data": {
      "text/plain": [
       "{'bind_client': <stravalib.client.Client at 0x10fc8c3d0>,\n",
       " 'log': <logging.Logger at 0x110066e10>}"
      ]
     },
     "execution_count": 24,
     "metadata": {},
     "output_type": "execute_result"
    }
   ],
   "source": [
    "a.__dict__"
   ]
  },
  {
   "cell_type": "code",
   "execution_count": 25,
   "metadata": {},
   "outputs": [
    {
     "data": {
      "text/plain": [
       "['ALPINESKI',\n",
       " 'BACKCOUNTRYSKI',\n",
       " 'CANOEING',\n",
       " 'CROSSCOUNTRYSKIING',\n",
       " 'CROSSFIT',\n",
       " 'EBIKERIDE',\n",
       " 'ELLIPTICAL',\n",
       " 'HIKE',\n",
       " 'ICESKATE',\n",
       " 'INLINESKATE',\n",
       " 'KAYAKING',\n",
       " 'KITESURF',\n",
       " 'NORDICSKI',\n",
       " 'RIDE',\n",
       " 'ROCKCLIMBING',\n",
       " 'ROLLERSKI',\n",
       " 'ROWING',\n",
       " 'RUN',\n",
       " 'SNOWBOARD',\n",
       " 'SNOWSHOE',\n",
       " 'STAIRSTEPPER',\n",
       " 'STANDUPPADDLING',\n",
       " 'SURFING',\n",
       " 'SWIM',\n",
       " 'TYPES',\n",
       " 'VIRTUALRIDE',\n",
       " 'WALK',\n",
       " 'WEIGHTTRAINING',\n",
       " 'WINDSURF',\n",
       " 'WORKOUT',\n",
       " 'YOGA',\n",
       " '__abstractmethods__',\n",
       " '__class__',\n",
       " '__delattr__',\n",
       " '__dict__',\n",
       " '__doc__',\n",
       " '__format__',\n",
       " '__getattribute__',\n",
       " '__hash__',\n",
       " '__init__',\n",
       " '__module__',\n",
       " '__new__',\n",
       " '__reduce__',\n",
       " '__reduce_ex__',\n",
       " '__repr__',\n",
       " '__setattr__',\n",
       " '__sizeof__',\n",
       " '__str__',\n",
       " '__subclasshook__',\n",
       " '__weakref__',\n",
       " '_abc_cache',\n",
       " '_abc_negative_cache',\n",
       " '_abc_negative_cache_version',\n",
       " '_abc_registry',\n",
       " '_comments',\n",
       " '_kudos',\n",
       " '_laps',\n",
       " '_photos',\n",
       " '_related',\n",
       " '_zones',\n",
       " 'achievement_count',\n",
       " 'assert_bind_client',\n",
       " 'athlete',\n",
       " 'athlete_count',\n",
       " 'average_cadence',\n",
       " 'average_heartrate',\n",
       " 'average_speed',\n",
       " 'average_temp',\n",
       " 'average_watts',\n",
       " 'best_efforts',\n",
       " 'bind_client',\n",
       " 'calories',\n",
       " 'comment_count',\n",
       " 'comments',\n",
       " 'commute',\n",
       " 'description',\n",
       " 'deserialize',\n",
       " 'device_name',\n",
       " 'device_watts',\n",
       " 'distance',\n",
       " 'elapsed_time',\n",
       " 'elev_high',\n",
       " 'elev_low',\n",
       " 'embed_token',\n",
       " 'end_latlng',\n",
       " 'expand',\n",
       " 'external_id',\n",
       " 'flagged',\n",
       " 'from_accepted_tag',\n",
       " 'from_dict',\n",
       " 'full_photos',\n",
       " 'gear',\n",
       " 'gear_id',\n",
       " 'guid',\n",
       " 'has_heartrate',\n",
       " 'has_kudoed',\n",
       " 'highlighted_kudosers',\n",
       " 'id',\n",
       " 'instagram_primary_photo',\n",
       " 'kilojoules',\n",
       " 'kudos',\n",
       " 'kudos_count',\n",
       " 'laps',\n",
       " 'location_city',\n",
       " 'location_country',\n",
       " 'location_state',\n",
       " 'log',\n",
       " 'manual',\n",
       " 'map',\n",
       " 'max_heartrate',\n",
       " 'max_speed',\n",
       " 'max_watts',\n",
       " 'moving_time',\n",
       " 'name',\n",
       " 'partner_brand_tag',\n",
       " 'partner_logo_url',\n",
       " 'photo_count',\n",
       " 'photos',\n",
       " 'pr_count',\n",
       " 'private',\n",
       " 'related',\n",
       " 'resource_state',\n",
       " 'segment_efforts',\n",
       " 'segment_leaderboard_opt_out',\n",
       " 'splits_metric',\n",
       " 'splits_standard',\n",
       " 'start_date',\n",
       " 'start_date_local',\n",
       " 'start_latitude',\n",
       " 'start_latlng',\n",
       " 'start_longitude',\n",
       " 'suffer_score',\n",
       " 'timezone',\n",
       " 'to_dict',\n",
       " 'total_elevation_gain',\n",
       " 'total_photo_count',\n",
       " 'trainer',\n",
       " 'type',\n",
       " 'upload_id',\n",
       " 'utc_offset',\n",
       " 'weighted_average_watts',\n",
       " 'workout_type',\n",
       " 'zones']"
      ]
     },
     "execution_count": 25,
     "metadata": {},
     "output_type": "execute_result"
    }
   ],
   "source": [
    "dir(a)"
   ]
  },
  {
   "cell_type": "code",
   "execution_count": 26,
   "metadata": {},
   "outputs": [
    {
     "data": {
      "text/plain": [
       "{'achievement_count': 3,\n",
       " 'athlete': {'admin': None,\n",
       "  'agreed_to_terms': None,\n",
       "  'approve_followers': None,\n",
       "  'athlete_type': None,\n",
       "  'badge_type_id': None,\n",
       "  'bikes': None,\n",
       "  'city': None,\n",
       "  'clubs': None,\n",
       "  'country': None,\n",
       "  'created_at': None,\n",
       "  'date_preference': None,\n",
       "  'dateofbirth': None,\n",
       "  'description': None,\n",
       "  'email': None,\n",
       "  'email_facebook_twitter_friend_joins': None,\n",
       "  'email_kom_lost': None,\n",
       "  'email_language': None,\n",
       "  'email_send_follower_notices': None,\n",
       "  'facebook_sharing_enabled': None,\n",
       "  'firstname': None,\n",
       "  'follower': None,\n",
       "  'follower_count': None,\n",
       "  'follower_request_count': None,\n",
       "  'friend': None,\n",
       "  'friend_count': None,\n",
       "  'ftp': None,\n",
       "  'global_privacy': None,\n",
       "  'instagram_username': None,\n",
       "  'lastname': None,\n",
       "  'max_heartrate': None,\n",
       "  'measurement_preference': None,\n",
       "  'membership': None,\n",
       "  'mutual_friend_count': None,\n",
       "  'offer_in_app_payment': None,\n",
       "  'owner': None,\n",
       "  'plan': None,\n",
       "  'premium': None,\n",
       "  'premium_expiration_date': None,\n",
       "  'profile': None,\n",
       "  'profile_medium': None,\n",
       "  'profile_original': None,\n",
       "  'receive_comment_emails': None,\n",
       "  'receive_follower_feed_emails': None,\n",
       "  'receive_kudos_emails': None,\n",
       "  'receive_newsletter': None,\n",
       "  'sample_race_distance': None,\n",
       "  'sample_race_time': None,\n",
       "  'sex': None,\n",
       "  'shoes': None,\n",
       "  'state': None,\n",
       "  'subscription_permissions': None,\n",
       "  'super_user': None,\n",
       "  'updated_at': None,\n",
       "  'username': None,\n",
       "  'weight': None},\n",
       " 'athlete_count': 1,\n",
       " 'average_cadence': 80.7,\n",
       " 'average_heartrate': 159.5,\n",
       " 'average_speed': 3.031,\n",
       " 'average_temp': 23,\n",
       " 'average_watts': None,\n",
       " 'best_efforts': None,\n",
       " 'calories': None,\n",
       " 'comment_count': 0,\n",
       " 'commute': False,\n",
       " 'description': None,\n",
       " 'device_name': None,\n",
       " 'device_watts': None,\n",
       " 'distance': 11009.1,\n",
       " 'elapsed_time': '1:00:35',\n",
       " 'elev_high': 63.8,\n",
       " 'elev_low': 54.8,\n",
       " 'embed_token': None,\n",
       " 'end_latlng': u'52.28,20.98',\n",
       " 'external_id': u'garmin_push_2986911378',\n",
       " 'flagged': False,\n",
       " 'from_accepted_tag': False,\n",
       " 'gear': None,\n",
       " 'gear_id': u'g3106998',\n",
       " 'guid': None,\n",
       " 'has_heartrate': True,\n",
       " 'has_kudoed': False,\n",
       " 'highlighted_kudosers': None,\n",
       " 'instagram_primary_photo': None,\n",
       " 'kilojoules': None,\n",
       " 'kudos_count': 6,\n",
       " 'laps': None,\n",
       " 'location_city': None,\n",
       " 'location_country': u'Poland',\n",
       " 'location_state': None,\n",
       " 'manual': False,\n",
       " 'map': {'id': u'a1818141894',\n",
       "  'polyline': None,\n",
       "  'summary_polyline': 'wta~Hyw`_CgCc`@bAiDe@gM`XiOjHuLJmGpC{@_AvCm@kC|A]eJfSSoFzDmCD}CcGlFyAdHwErFsSlI_LzXVfAjK{V~JuCbR{Ll@{InDcCZgCmFvCkClJ{DlEkU~KkNx\\\\gAvLyCvF{WbPoFj@cAlDzAp@z`@kXfC{Gr@gIlMw[p]qQ|A{BHcHrDgCDqC{FtEoC|J_DhD}PzGbBzLw@jKpBd\\\\{Ap@lBqBdArC'},\n",
       " 'max_heartrate': 186,\n",
       " 'max_speed': 5.8,\n",
       " 'max_watts': None,\n",
       " 'moving_time': '1:00:32',\n",
       " 'name': u'Lauf am Morgen',\n",
       " 'partner_brand_tag': None,\n",
       " 'partner_logo_url': None,\n",
       " 'photo_count': 0,\n",
       " 'photos': None,\n",
       " 'pr_count': 1,\n",
       " 'private': False,\n",
       " 'segment_efforts': None,\n",
       " 'segment_leaderboard_opt_out': None,\n",
       " 'splits_metric': None,\n",
       " 'splits_standard': None,\n",
       " 'start_date': '2018-09-04T06:29:18+00:00',\n",
       " 'start_date_local': '2018-09-04T08:29:18',\n",
       " 'start_latitude': 52.28,\n",
       " 'start_latlng': u'52.28,20.98',\n",
       " 'start_longitude': 20.98,\n",
       " 'suffer_score': None,\n",
       " 'timezone': 'Europe/Warsaw',\n",
       " 'total_elevation_gain': 16.0,\n",
       " 'total_photo_count': 0,\n",
       " 'trainer': False,\n",
       " 'type': u'Run',\n",
       " 'upload_id': u'1949723434',\n",
       " 'utc_offset': 7200.0,\n",
       " 'weighted_average_watts': None,\n",
       " 'workout_type': None}"
      ]
     },
     "execution_count": 26,
     "metadata": {},
     "output_type": "execute_result"
    }
   ],
   "source": [
    "a.to_dict()"
   ]
  },
  {
   "cell_type": "code",
   "execution_count": 27,
   "metadata": {},
   "outputs": [
    {
     "data": {
      "text/plain": [
       "645"
      ]
     },
     "execution_count": 27,
     "metadata": {},
     "output_type": "execute_result"
    }
   ],
   "source": [
    "len(activities)"
   ]
  },
  {
   "cell_type": "code",
   "execution_count": 31,
   "metadata": {},
   "outputs": [],
   "source": [
    "import pandas as pd\n",
    "dates = pd.date_range('20130101',periods=6)"
   ]
  },
  {
   "cell_type": "code",
   "execution_count": 32,
   "metadata": {},
   "outputs": [
    {
     "data": {
      "text/plain": [
       "DatetimeIndex(['2013-01-01', '2013-01-02', '2013-01-03', '2013-01-04',\n",
       "               '2013-01-05', '2013-01-06'],\n",
       "              dtype='datetime64[ns]', freq='D')"
      ]
     },
     "metadata": {},
     "output_type": "display_data"
    }
   ],
   "source": [
    "display(dates)"
   ]
  },
  {
   "cell_type": "code",
   "execution_count": 36,
   "metadata": {},
   "outputs": [
    {
     "data": {
      "text/html": [
       "<table border=\"1\" class=\"dataframe\">\n",
       "  <thead>\n",
       "    <tr style=\"text-align: right;\">\n",
       "      <th></th>\n",
       "      <th>A</th>\n",
       "      <th>B</th>\n",
       "      <th>C</th>\n",
       "      <th>D</th>\n",
       "    </tr>\n",
       "  </thead>\n",
       "  <tbody>\n",
       "    <tr>\n",
       "      <th>2013-01-01</th>\n",
       "      <td>-0.114551</td>\n",
       "      <td>2.150171</td>\n",
       "      <td>-1.591374</td>\n",
       "      <td>0.067630</td>\n",
       "    </tr>\n",
       "    <tr>\n",
       "      <th>2013-01-02</th>\n",
       "      <td>-1.402921</td>\n",
       "      <td>-1.133587</td>\n",
       "      <td>0.145889</td>\n",
       "      <td>0.211251</td>\n",
       "    </tr>\n",
       "    <tr>\n",
       "      <th>2013-01-03</th>\n",
       "      <td>1.186940</td>\n",
       "      <td>1.658249</td>\n",
       "      <td>-0.400631</td>\n",
       "      <td>0.961601</td>\n",
       "    </tr>\n",
       "    <tr>\n",
       "      <th>2013-01-04</th>\n",
       "      <td>-2.376117</td>\n",
       "      <td>1.317330</td>\n",
       "      <td>0.141566</td>\n",
       "      <td>-0.792013</td>\n",
       "    </tr>\n",
       "    <tr>\n",
       "      <th>2013-01-05</th>\n",
       "      <td>0.218022</td>\n",
       "      <td>0.321286</td>\n",
       "      <td>-0.271007</td>\n",
       "      <td>0.583910</td>\n",
       "    </tr>\n",
       "    <tr>\n",
       "      <th>2013-01-06</th>\n",
       "      <td>1.248033</td>\n",
       "      <td>0.584613</td>\n",
       "      <td>0.179517</td>\n",
       "      <td>-0.774636</td>\n",
       "    </tr>\n",
       "  </tbody>\n",
       "</table>"
      ],
      "text/plain": [
       "<IPython.core.display.HTML object>"
      ]
     },
     "metadata": {},
     "output_type": "display_data"
    }
   ],
   "source": [
    "import numpy as np\n",
    "df = pd.DataFrame(np.random.randn(6,4),index=dates,columns=list('ABCD'))\n",
    "\n",
    "display(HTML(df.to_html()))"
   ]
  },
  {
   "cell_type": "code",
   "execution_count": 37,
   "metadata": {},
   "outputs": [
    {
     "data": {
      "text/plain": [
       "u'Lauf am Morgen'"
      ]
     },
     "execution_count": 37,
     "metadata": {},
     "output_type": "execute_result"
    }
   ],
   "source": [
    "a.name"
   ]
  },
  {
   "cell_type": "code",
   "execution_count": null,
   "metadata": {},
   "outputs": [
    {
     "name": "stdout",
     "output_type": "stream",
     "text": [
      "showing info https://raw.githubusercontent.com/nltk/nltk_data/gh-pages/index.xml\n"
     ]
    }
   ],
   "source": [
    "import nltk\n",
    "nltk.download()"
   ]
  },
  {
   "cell_type": "code",
   "execution_count": null,
   "metadata": {},
   "outputs": [],
   "source": []
  }
 ],
 "metadata": {
  "kernelspec": {
   "display_name": "venv",
   "language": "python",
   "name": "venv"
  },
  "language_info": {
   "codemirror_mode": {
    "name": "ipython",
    "version": 2
   },
   "file_extension": ".py",
   "mimetype": "text/x-python",
   "name": "python",
   "nbconvert_exporter": "python",
   "pygments_lexer": "ipython2",
   "version": "2.7.10"
  }
 },
 "nbformat": 4,
 "nbformat_minor": 2
}
